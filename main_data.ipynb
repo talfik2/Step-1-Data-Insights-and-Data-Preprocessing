{
 "cells": [
  {
   "cell_type": "markdown",
   "metadata": {},
   "source": [
    "#### IMPORTING NECASSARY LIBRARIES"
   ]
  },
  {
   "cell_type": "code",
   "execution_count": 1,
   "metadata": {},
   "outputs": [],
   "source": [
    "import pandas as pd\n",
    "import numpy as np\n",
    "import matplotlib.pyplot as plt\n",
    "import seaborn as sns"
   ]
  },
  {
   "cell_type": "markdown",
   "metadata": {},
   "source": [
    "<font color=red> Review the Source Documentation\n",
    "</font>\n",
    "1. cab data : describing attributes of Transactions like Companies, Km travelled, price charged etc.\n",
    "2. Customer ID data : consists of uniques customer ids with their ages and income.\n",
    "3. Transaction ID data : Consists of unique Transaction Ids with the payment mode.\n",
    "4. City Data : Consists of various cities, their populations and number of users."
   ]
  },
  {
   "cell_type": "markdown",
   "metadata": {},
   "source": [
    "<font color=blue>cab_data DataFrame\n",
    "</font>"
   ]
  },
  {
   "cell_type": "code",
   "execution_count": 2,
   "metadata": {},
   "outputs": [
    {
     "data": {
      "text/html": [
       "<div>\n",
       "<style scoped>\n",
       "    .dataframe tbody tr th:only-of-type {\n",
       "        vertical-align: middle;\n",
       "    }\n",
       "\n",
       "    .dataframe tbody tr th {\n",
       "        vertical-align: top;\n",
       "    }\n",
       "\n",
       "    .dataframe thead th {\n",
       "        text-align: right;\n",
       "    }\n",
       "</style>\n",
       "<table border=\"1\" class=\"dataframe\">\n",
       "  <thead>\n",
       "    <tr style=\"text-align: right;\">\n",
       "      <th></th>\n",
       "      <th>Transaction ID</th>\n",
       "      <th>Date of Travel</th>\n",
       "      <th>Company</th>\n",
       "      <th>City</th>\n",
       "      <th>KM Travelled</th>\n",
       "      <th>Price Charged</th>\n",
       "      <th>Cost of Trip</th>\n",
       "    </tr>\n",
       "  </thead>\n",
       "  <tbody>\n",
       "    <tr>\n",
       "      <th>0</th>\n",
       "      <td>10000011</td>\n",
       "      <td>42377</td>\n",
       "      <td>Pink Cab</td>\n",
       "      <td>ATLANTA GA</td>\n",
       "      <td>30.45</td>\n",
       "      <td>370.95</td>\n",
       "      <td>313.635</td>\n",
       "    </tr>\n",
       "    <tr>\n",
       "      <th>1</th>\n",
       "      <td>10000012</td>\n",
       "      <td>42375</td>\n",
       "      <td>Pink Cab</td>\n",
       "      <td>ATLANTA GA</td>\n",
       "      <td>28.62</td>\n",
       "      <td>358.52</td>\n",
       "      <td>334.854</td>\n",
       "    </tr>\n",
       "    <tr>\n",
       "      <th>2</th>\n",
       "      <td>10000013</td>\n",
       "      <td>42371</td>\n",
       "      <td>Pink Cab</td>\n",
       "      <td>ATLANTA GA</td>\n",
       "      <td>9.04</td>\n",
       "      <td>125.20</td>\n",
       "      <td>97.632</td>\n",
       "    </tr>\n",
       "  </tbody>\n",
       "</table>\n",
       "</div>"
      ],
      "text/plain": [
       "   Transaction ID  Date of Travel   Company        City  KM Travelled  \\\n",
       "0        10000011           42377  Pink Cab  ATLANTA GA         30.45   \n",
       "1        10000012           42375  Pink Cab  ATLANTA GA         28.62   \n",
       "2        10000013           42371  Pink Cab  ATLANTA GA          9.04   \n",
       "\n",
       "   Price Charged  Cost of Trip  \n",
       "0         370.95       313.635  \n",
       "1         358.52       334.854  \n",
       "2         125.20        97.632  "
      ]
     },
     "execution_count": 2,
     "metadata": {},
     "output_type": "execute_result"
    }
   ],
   "source": [
    "cab_data = pd.read_csv(\"C:\\\\Users\\\\talfi\\\\python\\\\dataglacier\\\\w2\\\\DataSets-main\\\\Cab_Data.csv\")\n",
    "cab_data.head(3)"
   ]
  },
  {
   "cell_type": "markdown",
   "metadata": {},
   "source": [
    "<font color=red>Understand the field names and data types of cab_data DataFrame\n",
    "</font> <br>\n",
    "To understand the field names, I imported CSV file. <br>\n",
    "**Transaction ID** observation represents the unique transaction id for each trip. <br>\n",
    "**Date of Travel** observation represents the customer's travel date in the MS Excel format. We'll change it to the regular datetime format with read_date() function later. <br>\n",
    "**Company** observation includes the potential cab industries that XYZ planns to invest in, Pink Cab and Yellow Cab. <br>\n",
    "**City** observation contains the list of US cities relevant to our case. <br>\n",
    "**KM Travelled** observation represents the travelled KM for each customer. <br>\n",
    "**Price Charged** observation represents the revenue for each travel.<br>\n",
    "**Cost of Trip** observation represents the expense for each travel."
   ]
  },
  {
   "cell_type": "code",
   "execution_count": 4,
   "metadata": {},
   "outputs": [
    {
     "data": {
      "text/plain": [
       "(359392, 7)"
      ]
     },
     "execution_count": 4,
     "metadata": {},
     "output_type": "execute_result"
    }
   ],
   "source": [
    "cab_data.shape"
   ]
  },
  {
   "cell_type": "markdown",
   "metadata": {},
   "source": [
    "cab_data contains of 359392 rows and 7 columns."
   ]
  },
  {
   "cell_type": "code",
   "execution_count": 4,
   "metadata": {
    "scrolled": true
   },
   "outputs": [
    {
     "data": {
      "text/plain": [
       "Transaction ID      int64\n",
       "Date of Travel      int64\n",
       "Company            object\n",
       "City               object\n",
       "KM Travelled      float64\n",
       "Price Charged     float64\n",
       "Cost of Trip      float64\n",
       "dtype: object"
      ]
     },
     "execution_count": 4,
     "metadata": {},
     "output_type": "execute_result"
    }
   ],
   "source": [
    "cab_data.dtypes"
   ]
  },
  {
   "cell_type": "markdown",
   "metadata": {},
   "source": [
    "To understand data types of cab_data, I used Pandas' `.dtypes` function. <br>\n",
    "* Dtypes of Transaction ID and Date of Travel observations' are int64, <br>\n",
    "* Dtypes of Company and City observations' are object, <br>\n",
    "* KM Travelled, Prica Charged and Cost of Trip observations' are float64. "
   ]
  },
  {
   "cell_type": "markdown",
   "metadata": {},
   "source": [
    "Summary statistics of cab_data"
   ]
  },
  {
   "cell_type": "code",
   "execution_count": 8,
   "metadata": {},
   "outputs": [
    {
     "data": {
      "text/html": [
       "<div>\n",
       "<style scoped>\n",
       "    .dataframe tbody tr th:only-of-type {\n",
       "        vertical-align: middle;\n",
       "    }\n",
       "\n",
       "    .dataframe tbody tr th {\n",
       "        vertical-align: top;\n",
       "    }\n",
       "\n",
       "    .dataframe thead th {\n",
       "        text-align: right;\n",
       "    }\n",
       "</style>\n",
       "<table border=\"1\" class=\"dataframe\">\n",
       "  <thead>\n",
       "    <tr style=\"text-align: right;\">\n",
       "      <th></th>\n",
       "      <th>Transaction ID</th>\n",
       "      <th>Date of Travel</th>\n",
       "      <th>KM Travelled</th>\n",
       "      <th>Price Charged</th>\n",
       "      <th>Cost of Trip</th>\n",
       "    </tr>\n",
       "  </thead>\n",
       "  <tbody>\n",
       "    <tr>\n",
       "      <th>count</th>\n",
       "      <td>3.593920e+05</td>\n",
       "      <td>359392.000000</td>\n",
       "      <td>359392.000000</td>\n",
       "      <td>359392.000000</td>\n",
       "      <td>359392.000000</td>\n",
       "    </tr>\n",
       "    <tr>\n",
       "      <th>mean</th>\n",
       "      <td>1.022076e+07</td>\n",
       "      <td>42964.067998</td>\n",
       "      <td>22.567254</td>\n",
       "      <td>423.443311</td>\n",
       "      <td>286.190113</td>\n",
       "    </tr>\n",
       "    <tr>\n",
       "      <th>std</th>\n",
       "      <td>1.268058e+05</td>\n",
       "      <td>307.467197</td>\n",
       "      <td>12.233526</td>\n",
       "      <td>274.378911</td>\n",
       "      <td>157.993661</td>\n",
       "    </tr>\n",
       "    <tr>\n",
       "      <th>min</th>\n",
       "      <td>1.000001e+07</td>\n",
       "      <td>42371.000000</td>\n",
       "      <td>1.900000</td>\n",
       "      <td>15.600000</td>\n",
       "      <td>19.000000</td>\n",
       "    </tr>\n",
       "    <tr>\n",
       "      <th>25%</th>\n",
       "      <td>1.011081e+07</td>\n",
       "      <td>42697.000000</td>\n",
       "      <td>12.000000</td>\n",
       "      <td>206.437500</td>\n",
       "      <td>151.200000</td>\n",
       "    </tr>\n",
       "    <tr>\n",
       "      <th>50%</th>\n",
       "      <td>1.022104e+07</td>\n",
       "      <td>42988.000000</td>\n",
       "      <td>22.440000</td>\n",
       "      <td>386.360000</td>\n",
       "      <td>282.480000</td>\n",
       "    </tr>\n",
       "    <tr>\n",
       "      <th>75%</th>\n",
       "      <td>1.033094e+07</td>\n",
       "      <td>43232.000000</td>\n",
       "      <td>32.960000</td>\n",
       "      <td>583.660000</td>\n",
       "      <td>413.683200</td>\n",
       "    </tr>\n",
       "    <tr>\n",
       "      <th>max</th>\n",
       "      <td>1.044011e+07</td>\n",
       "      <td>43465.000000</td>\n",
       "      <td>48.000000</td>\n",
       "      <td>2048.030000</td>\n",
       "      <td>691.200000</td>\n",
       "    </tr>\n",
       "  </tbody>\n",
       "</table>\n",
       "</div>"
      ],
      "text/plain": [
       "       Transaction ID  Date of Travel   KM Travelled  Price Charged  \\\n",
       "count    3.593920e+05   359392.000000  359392.000000  359392.000000   \n",
       "mean     1.022076e+07    42964.067998      22.567254     423.443311   \n",
       "std      1.268058e+05      307.467197      12.233526     274.378911   \n",
       "min      1.000001e+07    42371.000000       1.900000      15.600000   \n",
       "25%      1.011081e+07    42697.000000      12.000000     206.437500   \n",
       "50%      1.022104e+07    42988.000000      22.440000     386.360000   \n",
       "75%      1.033094e+07    43232.000000      32.960000     583.660000   \n",
       "max      1.044011e+07    43465.000000      48.000000    2048.030000   \n",
       "\n",
       "        Cost of Trip  \n",
       "count  359392.000000  \n",
       "mean      286.190113  \n",
       "std       157.993661  \n",
       "min        19.000000  \n",
       "25%       151.200000  \n",
       "50%       282.480000  \n",
       "75%       413.683200  \n",
       "max       691.200000  "
      ]
     },
     "execution_count": 8,
     "metadata": {},
     "output_type": "execute_result"
    }
   ],
   "source": [
    "cab_data.describe()"
   ]
  },
  {
   "cell_type": "markdown",
   "metadata": {},
   "source": [
    "<font color=blue>city DataFrame\n",
    "</font>"
   ]
  },
  {
   "cell_type": "code",
   "execution_count": 3,
   "metadata": {},
   "outputs": [
    {
     "data": {
      "text/html": [
       "<div>\n",
       "<style scoped>\n",
       "    .dataframe tbody tr th:only-of-type {\n",
       "        vertical-align: middle;\n",
       "    }\n",
       "\n",
       "    .dataframe tbody tr th {\n",
       "        vertical-align: top;\n",
       "    }\n",
       "\n",
       "    .dataframe thead th {\n",
       "        text-align: right;\n",
       "    }\n",
       "</style>\n",
       "<table border=\"1\" class=\"dataframe\">\n",
       "  <thead>\n",
       "    <tr style=\"text-align: right;\">\n",
       "      <th></th>\n",
       "      <th>City</th>\n",
       "      <th>Population</th>\n",
       "      <th>Users</th>\n",
       "    </tr>\n",
       "  </thead>\n",
       "  <tbody>\n",
       "    <tr>\n",
       "      <th>0</th>\n",
       "      <td>NEW YORK NY</td>\n",
       "      <td>8,405,837</td>\n",
       "      <td>302,149</td>\n",
       "    </tr>\n",
       "    <tr>\n",
       "      <th>1</th>\n",
       "      <td>CHICAGO IL</td>\n",
       "      <td>1,955,130</td>\n",
       "      <td>164,468</td>\n",
       "    </tr>\n",
       "    <tr>\n",
       "      <th>2</th>\n",
       "      <td>LOS ANGELES CA</td>\n",
       "      <td>1,595,037</td>\n",
       "      <td>144,132</td>\n",
       "    </tr>\n",
       "  </tbody>\n",
       "</table>\n",
       "</div>"
      ],
      "text/plain": [
       "             City   Population      Users\n",
       "0     NEW YORK NY   8,405,837    302,149 \n",
       "1      CHICAGO IL   1,955,130    164,468 \n",
       "2  LOS ANGELES CA   1,595,037    144,132 "
      ]
     },
     "execution_count": 3,
     "metadata": {},
     "output_type": "execute_result"
    }
   ],
   "source": [
    "city = pd.read_csv(\"C:\\\\Users\\\\talfi\\\\python\\\\dataglacier\\\\w2\\\\DataSets-main\\\\City.csv\")\n",
    "city.head(3)"
   ]
  },
  {
   "cell_type": "markdown",
   "metadata": {},
   "source": [
    "<font color=red>Understand the field names and data types of city DataFrame\n",
    "</font> <br>\n",
    "To understand the field names, I imported CSV file. <br>\n",
    "**City** observation contains the list of US cities relevant to our case. cab_data df also has the city observation. This means that we are going to merge cab_data and city on City observation. <br>\n",
    "**Population** observation represents the population of each city. <br>\n",
    "**Users** observation represents the cab users' population from each city."
   ]
  },
  {
   "cell_type": "code",
   "execution_count": 11,
   "metadata": {},
   "outputs": [
    {
     "data": {
      "text/plain": [
       "(20, 3)"
      ]
     },
     "execution_count": 11,
     "metadata": {},
     "output_type": "execute_result"
    }
   ],
   "source": [
    "city.shape"
   ]
  },
  {
   "cell_type": "markdown",
   "metadata": {},
   "source": [
    "city df has 20 rows & 3 columns."
   ]
  },
  {
   "cell_type": "code",
   "execution_count": 12,
   "metadata": {
    "scrolled": true
   },
   "outputs": [
    {
     "data": {
      "text/plain": [
       "City          object\n",
       "Population    object\n",
       "Users         object\n",
       "dtype: object"
      ]
     },
     "execution_count": 12,
     "metadata": {},
     "output_type": "execute_result"
    }
   ],
   "source": [
    "city.dtypes"
   ]
  },
  {
   "cell_type": "markdown",
   "metadata": {},
   "source": [
    "To understand data types of city, I used Pandas' `.dtypes` function. <br>\n",
    "* Dtypes of all observations in the city dataframe are object. <br>"
   ]
  },
  {
   "cell_type": "markdown",
   "metadata": {},
   "source": [
    "Summary Statistics of city df"
   ]
  },
  {
   "cell_type": "code",
   "execution_count": 6,
   "metadata": {},
   "outputs": [
    {
     "data": {
      "text/html": [
       "<div>\n",
       "<style scoped>\n",
       "    .dataframe tbody tr th:only-of-type {\n",
       "        vertical-align: middle;\n",
       "    }\n",
       "\n",
       "    .dataframe tbody tr th {\n",
       "        vertical-align: top;\n",
       "    }\n",
       "\n",
       "    .dataframe thead th {\n",
       "        text-align: right;\n",
       "    }\n",
       "</style>\n",
       "<table border=\"1\" class=\"dataframe\">\n",
       "  <thead>\n",
       "    <tr style=\"text-align: right;\">\n",
       "      <th></th>\n",
       "      <th>City</th>\n",
       "      <th>Population</th>\n",
       "      <th>Users</th>\n",
       "    </tr>\n",
       "  </thead>\n",
       "  <tbody>\n",
       "    <tr>\n",
       "      <th>count</th>\n",
       "      <td>20</td>\n",
       "      <td>20</td>\n",
       "      <td>20</td>\n",
       "    </tr>\n",
       "    <tr>\n",
       "      <th>unique</th>\n",
       "      <td>20</td>\n",
       "      <td>20</td>\n",
       "      <td>20</td>\n",
       "    </tr>\n",
       "    <tr>\n",
       "      <th>top</th>\n",
       "      <td>PITTSBURGH PA</td>\n",
       "      <td>959,307</td>\n",
       "      <td>302,149</td>\n",
       "    </tr>\n",
       "    <tr>\n",
       "      <th>freq</th>\n",
       "      <td>1</td>\n",
       "      <td>1</td>\n",
       "      <td>1</td>\n",
       "    </tr>\n",
       "  </tbody>\n",
       "</table>\n",
       "</div>"
      ],
      "text/plain": [
       "                 City Population      Users\n",
       "count              20         20         20\n",
       "unique             20         20         20\n",
       "top     PITTSBURGH PA   959,307    302,149 \n",
       "freq                1          1          1"
      ]
     },
     "execution_count": 6,
     "metadata": {},
     "output_type": "execute_result"
    }
   ],
   "source": [
    "city.describe()"
   ]
  },
  {
   "cell_type": "markdown",
   "metadata": {},
   "source": [
    "<font color=blue>customer_id DataFrame\n",
    "</font>"
   ]
  },
  {
   "cell_type": "code",
   "execution_count": 4,
   "metadata": {
    "scrolled": true
   },
   "outputs": [
    {
     "data": {
      "text/html": [
       "<div>\n",
       "<style scoped>\n",
       "    .dataframe tbody tr th:only-of-type {\n",
       "        vertical-align: middle;\n",
       "    }\n",
       "\n",
       "    .dataframe tbody tr th {\n",
       "        vertical-align: top;\n",
       "    }\n",
       "\n",
       "    .dataframe thead th {\n",
       "        text-align: right;\n",
       "    }\n",
       "</style>\n",
       "<table border=\"1\" class=\"dataframe\">\n",
       "  <thead>\n",
       "    <tr style=\"text-align: right;\">\n",
       "      <th></th>\n",
       "      <th>Customer ID</th>\n",
       "      <th>Gender</th>\n",
       "      <th>Age</th>\n",
       "      <th>Income (USD/Month)</th>\n",
       "    </tr>\n",
       "  </thead>\n",
       "  <tbody>\n",
       "    <tr>\n",
       "      <th>0</th>\n",
       "      <td>29290</td>\n",
       "      <td>Male</td>\n",
       "      <td>28</td>\n",
       "      <td>10813</td>\n",
       "    </tr>\n",
       "    <tr>\n",
       "      <th>1</th>\n",
       "      <td>27703</td>\n",
       "      <td>Male</td>\n",
       "      <td>27</td>\n",
       "      <td>9237</td>\n",
       "    </tr>\n",
       "    <tr>\n",
       "      <th>2</th>\n",
       "      <td>28712</td>\n",
       "      <td>Male</td>\n",
       "      <td>53</td>\n",
       "      <td>11242</td>\n",
       "    </tr>\n",
       "  </tbody>\n",
       "</table>\n",
       "</div>"
      ],
      "text/plain": [
       "   Customer ID Gender  Age  Income (USD/Month)\n",
       "0        29290   Male   28               10813\n",
       "1        27703   Male   27                9237\n",
       "2        28712   Male   53               11242"
      ]
     },
     "execution_count": 4,
     "metadata": {},
     "output_type": "execute_result"
    }
   ],
   "source": [
    "customer_id = pd.read_csv(\"C:\\\\Users\\\\talfi\\\\python\\\\dataglacier\\\\w2\\\\DataSets-main\\\\Customer_ID.csv\")\n",
    "customer_id.head(3)"
   ]
  },
  {
   "cell_type": "markdown",
   "metadata": {},
   "source": [
    "<font color=red>Understand the field names and data types of customer_id DataFrame\n",
    "</font> <br>\n",
    "To understand the field names, I imported CSV file. <br>\n",
    "**Customer ID** observation represents the unique customer ID for each customer.<br>\n",
    "**Gender** observation represents the gender of each customer. <br>\n",
    "**Age** observation represents the age of each customer."
   ]
  },
  {
   "cell_type": "code",
   "execution_count": 15,
   "metadata": {},
   "outputs": [
    {
     "data": {
      "text/plain": [
       "(49171, 4)"
      ]
     },
     "execution_count": 15,
     "metadata": {},
     "output_type": "execute_result"
    }
   ],
   "source": [
    "customer_id.shape"
   ]
  },
  {
   "cell_type": "markdown",
   "metadata": {},
   "source": [
    "customer_id DataFrame has 49171 rows and 4 columns."
   ]
  },
  {
   "cell_type": "code",
   "execution_count": 16,
   "metadata": {},
   "outputs": [
    {
     "data": {
      "text/plain": [
       "Customer ID            int64\n",
       "Gender                object\n",
       "Age                    int64\n",
       "Income (USD/Month)     int64\n",
       "dtype: object"
      ]
     },
     "execution_count": 16,
     "metadata": {},
     "output_type": "execute_result"
    }
   ],
   "source": [
    "customer_id.dtypes"
   ]
  },
  {
   "cell_type": "markdown",
   "metadata": {},
   "source": [
    "To understand data types of customer_id, I used Pandas' `.dtypes` function. <br>\n",
    "* Dtypes of Customer ID, Age, and Income observations' are int64, <br>\n",
    "* Dtype of Gender observation is object. <br> "
   ]
  },
  {
   "cell_type": "markdown",
   "metadata": {},
   "source": [
    "<font color=blue>transaction_id DataFrame\n",
    "</font>"
   ]
  },
  {
   "cell_type": "code",
   "execution_count": 5,
   "metadata": {
    "scrolled": true
   },
   "outputs": [
    {
     "data": {
      "text/html": [
       "<div>\n",
       "<style scoped>\n",
       "    .dataframe tbody tr th:only-of-type {\n",
       "        vertical-align: middle;\n",
       "    }\n",
       "\n",
       "    .dataframe tbody tr th {\n",
       "        vertical-align: top;\n",
       "    }\n",
       "\n",
       "    .dataframe thead th {\n",
       "        text-align: right;\n",
       "    }\n",
       "</style>\n",
       "<table border=\"1\" class=\"dataframe\">\n",
       "  <thead>\n",
       "    <tr style=\"text-align: right;\">\n",
       "      <th></th>\n",
       "      <th>Transaction ID</th>\n",
       "      <th>Customer ID</th>\n",
       "      <th>Payment_Mode</th>\n",
       "    </tr>\n",
       "  </thead>\n",
       "  <tbody>\n",
       "    <tr>\n",
       "      <th>0</th>\n",
       "      <td>10000011</td>\n",
       "      <td>29290</td>\n",
       "      <td>Card</td>\n",
       "    </tr>\n",
       "    <tr>\n",
       "      <th>1</th>\n",
       "      <td>10000012</td>\n",
       "      <td>27703</td>\n",
       "      <td>Card</td>\n",
       "    </tr>\n",
       "    <tr>\n",
       "      <th>2</th>\n",
       "      <td>10000013</td>\n",
       "      <td>28712</td>\n",
       "      <td>Cash</td>\n",
       "    </tr>\n",
       "  </tbody>\n",
       "</table>\n",
       "</div>"
      ],
      "text/plain": [
       "   Transaction ID  Customer ID Payment_Mode\n",
       "0        10000011        29290         Card\n",
       "1        10000012        27703         Card\n",
       "2        10000013        28712         Cash"
      ]
     },
     "execution_count": 5,
     "metadata": {},
     "output_type": "execute_result"
    }
   ],
   "source": [
    "transaction_id = pd.read_csv(\"C:\\\\Users\\\\talfi\\\\python\\\\dataglacier\\\\w2\\\\DataSets-main\\\\Transaction_ID.csv\")\n",
    "transaction_id.head(3)"
   ]
  },
  {
   "cell_type": "markdown",
   "metadata": {},
   "source": [
    "<font color=red>Understand the field names and data types of transaction_id DataFrame\n",
    "</font> <br>\n",
    "To understand the field names, I imported CSV file. <br>\n",
    "**Transaction ID** observation represents the unique transaction id for each trip. cab_data also has Transaction ID, thus transaction_id and cab_data DataFrames can be merged on Transaction ID column <br>\n",
    "**Customer ID** observation represents the unique customer ID for each customer. customer_id also has Customer_ID observation hence we are going to merge these two DataFrames on Customer ID column.<br>\n",
    "**Payment_Mode** observation represents the payment mode for each transaction. It can either be Cash or Card."
   ]
  },
  {
   "cell_type": "code",
   "execution_count": 18,
   "metadata": {},
   "outputs": [
    {
     "data": {
      "text/plain": [
       "(440098, 3)"
      ]
     },
     "execution_count": 18,
     "metadata": {},
     "output_type": "execute_result"
    }
   ],
   "source": [
    "transaction_id.shape"
   ]
  },
  {
   "cell_type": "markdown",
   "metadata": {},
   "source": [
    "transaction_id DataFrame has 440098 rows and 3 columns."
   ]
  },
  {
   "cell_type": "code",
   "execution_count": 21,
   "metadata": {
    "scrolled": true
   },
   "outputs": [
    {
     "data": {
      "text/plain": [
       "Transaction ID     int64\n",
       "Customer ID        int64\n",
       "Payment_Mode      object\n",
       "dtype: object"
      ]
     },
     "execution_count": 21,
     "metadata": {},
     "output_type": "execute_result"
    }
   ],
   "source": [
    "transaction_id.dtypes"
   ]
  },
  {
   "cell_type": "markdown",
   "metadata": {},
   "source": [
    "To understand data types of transaction_id, I used Pandas' `.dtypes` function. <br>\n",
    "* Dtypes of Customer ID, and Transaction ID observations' are int64, <br>\n",
    "* Dtype of Payment_Mode observaiton is object. <br> "
   ]
  },
  {
   "cell_type": "markdown",
   "metadata": {},
   "source": [
    "<font color=red>Identify relationships across the files\n",
    "</font> <br>\n",
    "* **customer_id** DataFrame includes the customer related knowledge such as `Customer_ID`, `Age`, `Income` and `Gender`. Moreover, **transaction_id** DataFrame contains of transaction related knowledge such as `Customer_ID`, `Payment_Mode` and `Transaction_ID`. These two DataFrames are related with `Customer ID` observation.\n",
    "* **cab_data** DataFrame includes the trip related knowledge such as `Transaction ID` of the trip, `Date of Travel`, `KM Travelled` during the trip, `Price Charged`for each trip, `Cost of Trip`, `Company` that each cab belongs to, and `City` that trip was made. In the meantime, **city** DataFrame is all about city related knowledge like `City` of the trip,\t`Population`of that city,\tPink and Yellow Cab Company `Users` within the city. In this case, **cab_data** and **city** DataFrames are related with `City`observation.\n",
    "\t"
   ]
  },
  {
   "cell_type": "markdown",
   "metadata": {},
   "source": [
    "<font color=red>Determine which files should be joined versus which ones should be appended\n",
    "</font> <br>\n",
    "* Instead of `pd.join`, I am going to use `pd.merge` to merge DataFrames because every DataFrame has one common column. In join, I need to state the same column with lsuffix and rsuffix.(https://stackoverflow.com/a/54955652/13852388) This will create extra burden so I am not going to do it.\n",
    "* Instead of `pd.append`, I am going to use `pd.merge` because there is no `on` option of `pd.append`(https://pandas.pydata.org/pandas-docs/stable/reference/api/pandas.DataFrame.append.html) . This will cause double print of same columns. Revealing same data is just a burden for our merged DataFrames. \n",
    "* **customer_id** DataFrame and **transaction_id** DataFrames both have `Customer_ID` observation. Thus, we are going to merge these two DataFrames on `Customer_ID` observation and name this merge as `merge_1`\n",
    "* **cab_data** and **city** DataFrames both have`City` observation. Hence, we are going to merge these two DataFrames on `City`observation and name it as `merge_2`"
   ]
  },
  {
   "cell_type": "markdown",
   "metadata": {},
   "source": [
    "#### MERGE 1"
   ]
  },
  {
   "cell_type": "code",
   "execution_count": 6,
   "metadata": {
    "scrolled": true
   },
   "outputs": [
    {
     "data": {
      "text/html": [
       "<div>\n",
       "<style scoped>\n",
       "    .dataframe tbody tr th:only-of-type {\n",
       "        vertical-align: middle;\n",
       "    }\n",
       "\n",
       "    .dataframe tbody tr th {\n",
       "        vertical-align: top;\n",
       "    }\n",
       "\n",
       "    .dataframe thead th {\n",
       "        text-align: right;\n",
       "    }\n",
       "</style>\n",
       "<table border=\"1\" class=\"dataframe\">\n",
       "  <thead>\n",
       "    <tr style=\"text-align: right;\">\n",
       "      <th></th>\n",
       "      <th>Customer ID</th>\n",
       "      <th>Gender</th>\n",
       "      <th>Age</th>\n",
       "      <th>Income (USD/Month)</th>\n",
       "      <th>Transaction ID</th>\n",
       "      <th>Payment_Mode</th>\n",
       "    </tr>\n",
       "  </thead>\n",
       "  <tbody>\n",
       "    <tr>\n",
       "      <th>0</th>\n",
       "      <td>29290</td>\n",
       "      <td>Male</td>\n",
       "      <td>28</td>\n",
       "      <td>10813</td>\n",
       "      <td>10000011</td>\n",
       "      <td>Card</td>\n",
       "    </tr>\n",
       "    <tr>\n",
       "      <th>1</th>\n",
       "      <td>29290</td>\n",
       "      <td>Male</td>\n",
       "      <td>28</td>\n",
       "      <td>10813</td>\n",
       "      <td>10351127</td>\n",
       "      <td>Cash</td>\n",
       "    </tr>\n",
       "    <tr>\n",
       "      <th>2</th>\n",
       "      <td>29290</td>\n",
       "      <td>Male</td>\n",
       "      <td>28</td>\n",
       "      <td>10813</td>\n",
       "      <td>10412921</td>\n",
       "      <td>Card</td>\n",
       "    </tr>\n",
       "  </tbody>\n",
       "</table>\n",
       "</div>"
      ],
      "text/plain": [
       "   Customer ID Gender  Age  Income (USD/Month)  Transaction ID Payment_Mode\n",
       "0        29290   Male   28               10813        10000011         Card\n",
       "1        29290   Male   28               10813        10351127         Cash\n",
       "2        29290   Male   28               10813        10412921         Card"
      ]
     },
     "execution_count": 6,
     "metadata": {},
     "output_type": "execute_result"
    }
   ],
   "source": [
    "merge_1 = customer_id.merge(transaction_id, on=\"Customer ID\", how = \"outer\")\n",
    "merge_1.head(3)"
   ]
  },
  {
   "cell_type": "markdown",
   "metadata": {},
   "source": [
    "#### MERGE 2"
   ]
  },
  {
   "cell_type": "code",
   "execution_count": 7,
   "metadata": {
    "scrolled": true
   },
   "outputs": [
    {
     "data": {
      "text/html": [
       "<div>\n",
       "<style scoped>\n",
       "    .dataframe tbody tr th:only-of-type {\n",
       "        vertical-align: middle;\n",
       "    }\n",
       "\n",
       "    .dataframe tbody tr th {\n",
       "        vertical-align: top;\n",
       "    }\n",
       "\n",
       "    .dataframe thead th {\n",
       "        text-align: right;\n",
       "    }\n",
       "</style>\n",
       "<table border=\"1\" class=\"dataframe\">\n",
       "  <thead>\n",
       "    <tr style=\"text-align: right;\">\n",
       "      <th></th>\n",
       "      <th>Transaction ID</th>\n",
       "      <th>Date of Travel</th>\n",
       "      <th>Company</th>\n",
       "      <th>City</th>\n",
       "      <th>KM Travelled</th>\n",
       "      <th>Price Charged</th>\n",
       "      <th>Cost of Trip</th>\n",
       "      <th>Population</th>\n",
       "      <th>Users</th>\n",
       "    </tr>\n",
       "  </thead>\n",
       "  <tbody>\n",
       "    <tr>\n",
       "      <th>0</th>\n",
       "      <td>10000011.0</td>\n",
       "      <td>42377.0</td>\n",
       "      <td>Pink Cab</td>\n",
       "      <td>ATLANTA GA</td>\n",
       "      <td>30.45</td>\n",
       "      <td>370.95</td>\n",
       "      <td>313.635</td>\n",
       "      <td>814,885</td>\n",
       "      <td>24,701</td>\n",
       "    </tr>\n",
       "    <tr>\n",
       "      <th>1</th>\n",
       "      <td>10000012.0</td>\n",
       "      <td>42375.0</td>\n",
       "      <td>Pink Cab</td>\n",
       "      <td>ATLANTA GA</td>\n",
       "      <td>28.62</td>\n",
       "      <td>358.52</td>\n",
       "      <td>334.854</td>\n",
       "      <td>814,885</td>\n",
       "      <td>24,701</td>\n",
       "    </tr>\n",
       "    <tr>\n",
       "      <th>2</th>\n",
       "      <td>10000013.0</td>\n",
       "      <td>42371.0</td>\n",
       "      <td>Pink Cab</td>\n",
       "      <td>ATLANTA GA</td>\n",
       "      <td>9.04</td>\n",
       "      <td>125.20</td>\n",
       "      <td>97.632</td>\n",
       "      <td>814,885</td>\n",
       "      <td>24,701</td>\n",
       "    </tr>\n",
       "  </tbody>\n",
       "</table>\n",
       "</div>"
      ],
      "text/plain": [
       "   Transaction ID  Date of Travel   Company        City  KM Travelled  \\\n",
       "0      10000011.0         42377.0  Pink Cab  ATLANTA GA         30.45   \n",
       "1      10000012.0         42375.0  Pink Cab  ATLANTA GA         28.62   \n",
       "2      10000013.0         42371.0  Pink Cab  ATLANTA GA          9.04   \n",
       "\n",
       "   Price Charged  Cost of Trip Population     Users  \n",
       "0         370.95       313.635   814,885    24,701   \n",
       "1         358.52       334.854   814,885    24,701   \n",
       "2         125.20        97.632   814,885    24,701   "
      ]
     },
     "execution_count": 7,
     "metadata": {},
     "output_type": "execute_result"
    }
   ],
   "source": [
    "merge_2 = cab_data.merge(city, on = \"City\", how = \"outer\")\n",
    "merge_2.head(3)"
   ]
  },
  {
   "cell_type": "markdown",
   "metadata": {},
   "source": [
    "<font color=red>Create master data and explain the relationship\n",
    "</font> <br>\n",
    "To create master data, I am going to merge `merge_1` and `merge_2` DataFrames and create `merge_3` : the master data. <br>\n",
    "`merge_3` will include \n",
    "* `Customer_ID`, `Age`, `Income` and `Gender`observations from `customer_id` DataFrame,\n",
    "* `Customer_ID`, `Payment_Mode` and `Transaction_ID` observations from `transaction_id` DataFrame,\n",
    "* `Transaction ID` , `Date of Travel`, `KM Travelled` , `Price Charged`, `Cost of Trip`, `Company`  and `City` observations from `cab_data` DataFrame, \n",
    "* and `City`,`Population`,\t `Users` observations from `city` DataFrame.\n",
    "* As I merged these DataFrames on the same observation, there will be no duplicated values. Thus, there will be no need for <font color=red>Identify and remove duplicates\n",
    "</font>  step."
   ]
  },
  {
   "cell_type": "markdown",
   "metadata": {},
   "source": [
    "#### MERGE 3"
   ]
  },
  {
   "cell_type": "code",
   "execution_count": 8,
   "metadata": {
    "scrolled": true
   },
   "outputs": [
    {
     "data": {
      "text/html": [
       "<div>\n",
       "<style scoped>\n",
       "    .dataframe tbody tr th:only-of-type {\n",
       "        vertical-align: middle;\n",
       "    }\n",
       "\n",
       "    .dataframe tbody tr th {\n",
       "        vertical-align: top;\n",
       "    }\n",
       "\n",
       "    .dataframe thead th {\n",
       "        text-align: right;\n",
       "    }\n",
       "</style>\n",
       "<table border=\"1\" class=\"dataframe\">\n",
       "  <thead>\n",
       "    <tr style=\"text-align: right;\">\n",
       "      <th></th>\n",
       "      <th>Transaction ID</th>\n",
       "      <th>Date of Travel</th>\n",
       "      <th>Company</th>\n",
       "      <th>City</th>\n",
       "      <th>KM Travelled</th>\n",
       "      <th>Price Charged</th>\n",
       "      <th>Cost of Trip</th>\n",
       "      <th>Population</th>\n",
       "      <th>Users</th>\n",
       "      <th>Customer ID</th>\n",
       "      <th>Gender</th>\n",
       "      <th>Age</th>\n",
       "      <th>Income (USD/Month)</th>\n",
       "      <th>Payment_Mode</th>\n",
       "    </tr>\n",
       "  </thead>\n",
       "  <tbody>\n",
       "    <tr>\n",
       "      <th>0</th>\n",
       "      <td>10000011.0</td>\n",
       "      <td>42377.0</td>\n",
       "      <td>Pink Cab</td>\n",
       "      <td>ATLANTA GA</td>\n",
       "      <td>30.45</td>\n",
       "      <td>370.95</td>\n",
       "      <td>313.635</td>\n",
       "      <td>814,885</td>\n",
       "      <td>24,701</td>\n",
       "      <td>29290.0</td>\n",
       "      <td>Male</td>\n",
       "      <td>28.0</td>\n",
       "      <td>10813.0</td>\n",
       "      <td>Card</td>\n",
       "    </tr>\n",
       "    <tr>\n",
       "      <th>1</th>\n",
       "      <td>10000012.0</td>\n",
       "      <td>42375.0</td>\n",
       "      <td>Pink Cab</td>\n",
       "      <td>ATLANTA GA</td>\n",
       "      <td>28.62</td>\n",
       "      <td>358.52</td>\n",
       "      <td>334.854</td>\n",
       "      <td>814,885</td>\n",
       "      <td>24,701</td>\n",
       "      <td>27703.0</td>\n",
       "      <td>Male</td>\n",
       "      <td>27.0</td>\n",
       "      <td>9237.0</td>\n",
       "      <td>Card</td>\n",
       "    </tr>\n",
       "    <tr>\n",
       "      <th>2</th>\n",
       "      <td>10000013.0</td>\n",
       "      <td>42371.0</td>\n",
       "      <td>Pink Cab</td>\n",
       "      <td>ATLANTA GA</td>\n",
       "      <td>9.04</td>\n",
       "      <td>125.20</td>\n",
       "      <td>97.632</td>\n",
       "      <td>814,885</td>\n",
       "      <td>24,701</td>\n",
       "      <td>28712.0</td>\n",
       "      <td>Male</td>\n",
       "      <td>53.0</td>\n",
       "      <td>11242.0</td>\n",
       "      <td>Cash</td>\n",
       "    </tr>\n",
       "  </tbody>\n",
       "</table>\n",
       "</div>"
      ],
      "text/plain": [
       "   Transaction ID  Date of Travel   Company        City  KM Travelled  \\\n",
       "0      10000011.0         42377.0  Pink Cab  ATLANTA GA         30.45   \n",
       "1      10000012.0         42375.0  Pink Cab  ATLANTA GA         28.62   \n",
       "2      10000013.0         42371.0  Pink Cab  ATLANTA GA          9.04   \n",
       "\n",
       "   Price Charged  Cost of Trip Population     Users  Customer ID Gender   Age  \\\n",
       "0         370.95       313.635   814,885    24,701       29290.0   Male  28.0   \n",
       "1         358.52       334.854   814,885    24,701       27703.0   Male  27.0   \n",
       "2         125.20        97.632   814,885    24,701       28712.0   Male  53.0   \n",
       "\n",
       "   Income (USD/Month) Payment_Mode  \n",
       "0             10813.0         Card  \n",
       "1              9237.0         Card  \n",
       "2             11242.0         Cash  "
      ]
     },
     "execution_count": 8,
     "metadata": {},
     "output_type": "execute_result"
    }
   ],
   "source": [
    "merge_3 = merge_2.merge(merge_1,on= \"Transaction ID\",how = \"outer\")\n",
    "merge_3.head(3)"
   ]
  },
  {
   "cell_type": "code",
   "execution_count": 73,
   "metadata": {},
   "outputs": [
    {
     "data": {
      "text/plain": [
       "Yellow Cab    274681\n",
       "Pink Cab       84711\n",
       "Name: Company, dtype: int64"
      ]
     },
     "execution_count": 73,
     "metadata": {},
     "output_type": "execute_result"
    }
   ],
   "source": [
    "merge_3[\"Company\"].value_counts()"
   ]
  },
  {
   "cell_type": "markdown",
   "metadata": {},
   "source": [
    "<font color=red>Feature transformation\n",
    "</font> <br>\n",
    "I am going to make feature transformation in 5 steps. In the feature transformation, I referanced this article(https://towardsdatascience.com/feature-transformation-for-data-scientists-3a9eed562752) from the towardsdatascience \n",
    "1. **Data Imputation**\n",
    "In this step, I'll detect and replace the NA values. In other words, I'll make <font color=red>NA Value Analyse\n",
    "</font> To analyse NA Values, `pd.fillna()` could be used. However, `pd.fillna()`only replace NA values with one data type, and this is not useful our case because our master data(merge_3) includes more than one data type. `pd.fillna()` can also cause errors for some ML Algorithms. Thus, my choice will be Sklearns `SimpleImputer`. <br>\n",
    "SimpleImputer is a scikit-learn class which is helpful in handling the missing data in the predictive model dataset. It replaces the NaN values with a specified placeholder. In this case, we'll replace our NaN values with using the mean along each column. <br>"
   ]
  },
  {
   "cell_type": "code",
   "execution_count": 9,
   "metadata": {},
   "outputs": [
    {
     "data": {
      "text/html": [
       "<div>\n",
       "<style scoped>\n",
       "    .dataframe tbody tr th:only-of-type {\n",
       "        vertical-align: middle;\n",
       "    }\n",
       "\n",
       "    .dataframe tbody tr th {\n",
       "        vertical-align: top;\n",
       "    }\n",
       "\n",
       "    .dataframe thead th {\n",
       "        text-align: right;\n",
       "    }\n",
       "</style>\n",
       "<table border=\"1\" class=\"dataframe\">\n",
       "  <thead>\n",
       "    <tr style=\"text-align: right;\">\n",
       "      <th></th>\n",
       "      <th>0</th>\n",
       "      <th>1</th>\n",
       "      <th>2</th>\n",
       "      <th>3</th>\n",
       "      <th>4</th>\n",
       "      <th>5</th>\n",
       "      <th>6</th>\n",
       "      <th>7</th>\n",
       "      <th>8</th>\n",
       "      <th>9</th>\n",
       "      <th>10</th>\n",
       "      <th>11</th>\n",
       "      <th>12</th>\n",
       "      <th>13</th>\n",
       "    </tr>\n",
       "  </thead>\n",
       "  <tbody>\n",
       "    <tr>\n",
       "      <th>0</th>\n",
       "      <td>10000011.0</td>\n",
       "      <td>42377.0</td>\n",
       "      <td>Pink Cab</td>\n",
       "      <td>ATLANTA GA</td>\n",
       "      <td>30.45</td>\n",
       "      <td>370.95</td>\n",
       "      <td>313.635</td>\n",
       "      <td>814,885</td>\n",
       "      <td>24,701</td>\n",
       "      <td>29290.0</td>\n",
       "      <td>Male</td>\n",
       "      <td>28.0</td>\n",
       "      <td>10813.0</td>\n",
       "      <td>Card</td>\n",
       "    </tr>\n",
       "    <tr>\n",
       "      <th>1</th>\n",
       "      <td>10000012.0</td>\n",
       "      <td>42375.0</td>\n",
       "      <td>Pink Cab</td>\n",
       "      <td>ATLANTA GA</td>\n",
       "      <td>28.62</td>\n",
       "      <td>358.52</td>\n",
       "      <td>334.854</td>\n",
       "      <td>814,885</td>\n",
       "      <td>24,701</td>\n",
       "      <td>27703.0</td>\n",
       "      <td>Male</td>\n",
       "      <td>27.0</td>\n",
       "      <td>9237.0</td>\n",
       "      <td>Card</td>\n",
       "    </tr>\n",
       "    <tr>\n",
       "      <th>2</th>\n",
       "      <td>10000013.0</td>\n",
       "      <td>42371.0</td>\n",
       "      <td>Pink Cab</td>\n",
       "      <td>ATLANTA GA</td>\n",
       "      <td>9.04</td>\n",
       "      <td>125.2</td>\n",
       "      <td>97.632</td>\n",
       "      <td>814,885</td>\n",
       "      <td>24,701</td>\n",
       "      <td>28712.0</td>\n",
       "      <td>Male</td>\n",
       "      <td>53.0</td>\n",
       "      <td>11242.0</td>\n",
       "      <td>Cash</td>\n",
       "    </tr>\n",
       "  </tbody>\n",
       "</table>\n",
       "</div>"
      ],
      "text/plain": [
       "           0        1         2           3      4       5        6   \\\n",
       "0  10000011.0  42377.0  Pink Cab  ATLANTA GA  30.45  370.95  313.635   \n",
       "1  10000012.0  42375.0  Pink Cab  ATLANTA GA  28.62  358.52  334.854   \n",
       "2  10000013.0  42371.0  Pink Cab  ATLANTA GA   9.04   125.2   97.632   \n",
       "\n",
       "          7         8        9     10    11       12    13  \n",
       "0   814,885    24,701   29290.0  Male  28.0  10813.0  Card  \n",
       "1   814,885    24,701   27703.0  Male  27.0   9237.0  Card  \n",
       "2   814,885    24,701   28712.0  Male  53.0  11242.0  Cash  "
      ]
     },
     "execution_count": 9,
     "metadata": {},
     "output_type": "execute_result"
    }
   ],
   "source": [
    "from sklearn.impute import SimpleImputer\n",
    "imr = SimpleImputer(missing_values=np.nan, strategy='most_frequent')\n",
    "\n",
    "imr = imr.fit(merge_3)\n",
    "imputed_data = imr.transform(merge_3)\n",
    "merge_3 = pd.DataFrame(imputed_data)\n",
    "merge_3.head(3)"
   ]
  },
  {
   "cell_type": "markdown",
   "metadata": {},
   "source": [
    "* Seems that SimpleImputer removed all column names. Let's rename them."
   ]
  },
  {
   "cell_type": "code",
   "execution_count": 10,
   "metadata": {},
   "outputs": [],
   "source": [
    "merge_3 = merge_3.rename(columns={0:\"Transaction-ID\",\t1:\"Date-of-Travel\",\t2:\"Company\", 3:\"City\",\t4:\"KM-Travelled\",\t5:\"Price-Charged\",\t6:\"Cost-of-Trip\",\t7:\"Population\",\t8:\"Users\",\t9:\"Customer-ID\"\t, 10:\"Gender\",\t11:\"Age\",\t12:\"Income(USD/Month)\",\t13:\"Payment_Mode\"})"
   ]
  },
  {
   "cell_type": "code",
   "execution_count": 11,
   "metadata": {
    "scrolled": true
   },
   "outputs": [
    {
     "data": {
      "text/html": [
       "<div>\n",
       "<style scoped>\n",
       "    .dataframe tbody tr th:only-of-type {\n",
       "        vertical-align: middle;\n",
       "    }\n",
       "\n",
       "    .dataframe tbody tr th {\n",
       "        vertical-align: top;\n",
       "    }\n",
       "\n",
       "    .dataframe thead th {\n",
       "        text-align: right;\n",
       "    }\n",
       "</style>\n",
       "<table border=\"1\" class=\"dataframe\">\n",
       "  <thead>\n",
       "    <tr style=\"text-align: right;\">\n",
       "      <th></th>\n",
       "      <th>Transaction-ID</th>\n",
       "      <th>Date-of-Travel</th>\n",
       "      <th>Company</th>\n",
       "      <th>City</th>\n",
       "      <th>KM-Travelled</th>\n",
       "      <th>Price-Charged</th>\n",
       "      <th>Cost-of-Trip</th>\n",
       "      <th>Population</th>\n",
       "      <th>Users</th>\n",
       "      <th>Customer-ID</th>\n",
       "      <th>Gender</th>\n",
       "      <th>Age</th>\n",
       "      <th>Income(USD/Month)</th>\n",
       "      <th>Payment_Mode</th>\n",
       "    </tr>\n",
       "  </thead>\n",
       "  <tbody>\n",
       "    <tr>\n",
       "      <th>0</th>\n",
       "      <td>10000011.0</td>\n",
       "      <td>42377.0</td>\n",
       "      <td>Pink Cab</td>\n",
       "      <td>ATLANTA GA</td>\n",
       "      <td>30.45</td>\n",
       "      <td>370.95</td>\n",
       "      <td>313.635</td>\n",
       "      <td>814,885</td>\n",
       "      <td>24,701</td>\n",
       "      <td>29290.0</td>\n",
       "      <td>Male</td>\n",
       "      <td>28.0</td>\n",
       "      <td>10813.0</td>\n",
       "      <td>Card</td>\n",
       "    </tr>\n",
       "    <tr>\n",
       "      <th>1</th>\n",
       "      <td>10000012.0</td>\n",
       "      <td>42375.0</td>\n",
       "      <td>Pink Cab</td>\n",
       "      <td>ATLANTA GA</td>\n",
       "      <td>28.62</td>\n",
       "      <td>358.52</td>\n",
       "      <td>334.854</td>\n",
       "      <td>814,885</td>\n",
       "      <td>24,701</td>\n",
       "      <td>27703.0</td>\n",
       "      <td>Male</td>\n",
       "      <td>27.0</td>\n",
       "      <td>9237.0</td>\n",
       "      <td>Card</td>\n",
       "    </tr>\n",
       "    <tr>\n",
       "      <th>2</th>\n",
       "      <td>10000013.0</td>\n",
       "      <td>42371.0</td>\n",
       "      <td>Pink Cab</td>\n",
       "      <td>ATLANTA GA</td>\n",
       "      <td>9.04</td>\n",
       "      <td>125.2</td>\n",
       "      <td>97.632</td>\n",
       "      <td>814,885</td>\n",
       "      <td>24,701</td>\n",
       "      <td>28712.0</td>\n",
       "      <td>Male</td>\n",
       "      <td>53.0</td>\n",
       "      <td>11242.0</td>\n",
       "      <td>Cash</td>\n",
       "    </tr>\n",
       "  </tbody>\n",
       "</table>\n",
       "</div>"
      ],
      "text/plain": [
       "  Transaction-ID Date-of-Travel   Company        City KM-Travelled  \\\n",
       "0     10000011.0        42377.0  Pink Cab  ATLANTA GA        30.45   \n",
       "1     10000012.0        42375.0  Pink Cab  ATLANTA GA        28.62   \n",
       "2     10000013.0        42371.0  Pink Cab  ATLANTA GA         9.04   \n",
       "\n",
       "  Price-Charged Cost-of-Trip Population     Users Customer-ID Gender   Age  \\\n",
       "0        370.95      313.635   814,885    24,701      29290.0   Male  28.0   \n",
       "1        358.52      334.854   814,885    24,701      27703.0   Male  27.0   \n",
       "2         125.2       97.632   814,885    24,701      28712.0   Male  53.0   \n",
       "\n",
       "  Income(USD/Month) Payment_Mode  \n",
       "0           10813.0         Card  \n",
       "1            9237.0         Card  \n",
       "2           11242.0         Cash  "
      ]
     },
     "execution_count": 11,
     "metadata": {},
     "output_type": "execute_result"
    }
   ],
   "source": [
    "merge_3.head(3)"
   ]
  },
  {
   "cell_type": "code",
   "execution_count": 12,
   "metadata": {},
   "outputs": [
    {
     "data": {
      "text/plain": [
       "False"
      ]
     },
     "execution_count": 12,
     "metadata": {},
     "output_type": "execute_result"
    }
   ],
   "source": [
    "merge_3.isnull().values.any()"
   ]
  },
  {
   "cell_type": "markdown",
   "metadata": {},
   "source": [
    "Seems that we have no NaN values, all the NaN values are replaced with the most frequent value of each column."
   ]
  },
  {
   "cell_type": "markdown",
   "metadata": {},
   "source": [
    "**2. Data Encoding** <br>\n",
    "The computer reads numbers, even the most complex ones. It is much easier to understand numerical data rather than categorical, which is why I'll encode data.\n"
   ]
  },
  {
   "cell_type": "code",
   "execution_count": 49,
   "metadata": {},
   "outputs": [],
   "source": [
    "df = merge_3.drop(columns = \"Company\")\n",
    "y = merge_3[[\"Company\"]]\n",
    "from sklearn.feature_extraction import DictVectorizer\n",
    "# df'mizi dict'e dönüştürelim\n",
    "df_dict = df.to_dict(\"Records\")\n",
    "# Dict Vectorizer'ı oluşturalım. sparse=False set ettkik çünkü çıktıyı scipy.sparse metriği olarak almak istemiyorum.\n",
    "dv = DictVectorizer(sparse=False)\n",
    "# dv'yi object_degerler e uygulayalım\n",
    "df_encoded = dv.fit_transform(df_dict)\n",
    "# encoded edilmiş df'mizin satır ve sütun sayılarını döndürelim\n",
    "df_encoded = pd.DataFrame(df_encoded)"
   ]
  },
  {
   "cell_type": "code",
   "execution_count": 50,
   "metadata": {
    "scrolled": true
   },
   "outputs": [
    {
     "name": "stdout",
     "output_type": "stream",
     "text": [
      "Shape before the encoding:  (440099, 13)\n",
      "Shape after the encoding:  (440099, 72)\n"
     ]
    }
   ],
   "source": [
    "print(\"Shape before the encoding: \", df.shape)\n",
    "print(\"Shape after the encoding: \", df_encoded.shape)"
   ]
  },
  {
   "cell_type": "markdown",
   "metadata": {},
   "source": [
    "* 60 new columns were added, it is too much comparing the original dataset. The more features increase, there is more chance to overfit our model. Thus, we need to apply Feature Extraction to our data and move on with the most useful features.\n",
    "* I am going to do it with 2 ways.\n",
    "    * First, I'll plot all features and see their importance. Then, I'll measure it's prediction success. I'll name this step's outcome as `df`.\n",
    "    * Second, I'll set PCA's `n_components` parameter to 90 % productivity. Then, I'll measure it's prediction success. I'll name this step's outcome as `df1`.\n",
    "* In both cases, I'll preprocess data with `sklearn.preprocessing`'s `MinMaxScaler` as I'll use it for classification purposes.\n",
    "* After I tried these two methods, I'll go with the most optimal one."
   ]
  },
  {
   "cell_type": "markdown",
   "metadata": {},
   "source": [
    "**Normalization(Min Max Scaling)**"
   ]
  },
  {
   "cell_type": "code",
   "execution_count": 51,
   "metadata": {},
   "outputs": [
    {
     "data": {
      "text/html": [
       "<div>\n",
       "<style scoped>\n",
       "    .dataframe tbody tr th:only-of-type {\n",
       "        vertical-align: middle;\n",
       "    }\n",
       "\n",
       "    .dataframe tbody tr th {\n",
       "        vertical-align: top;\n",
       "    }\n",
       "\n",
       "    .dataframe thead th {\n",
       "        text-align: right;\n",
       "    }\n",
       "</style>\n",
       "<table border=\"1\" class=\"dataframe\">\n",
       "  <thead>\n",
       "    <tr style=\"text-align: right;\">\n",
       "      <th></th>\n",
       "      <th>0</th>\n",
       "      <th>1</th>\n",
       "      <th>2</th>\n",
       "      <th>3</th>\n",
       "      <th>4</th>\n",
       "      <th>5</th>\n",
       "      <th>6</th>\n",
       "      <th>7</th>\n",
       "      <th>8</th>\n",
       "      <th>9</th>\n",
       "      <th>...</th>\n",
       "      <th>11</th>\n",
       "      <th>12</th>\n",
       "      <th>13</th>\n",
       "      <th>14</th>\n",
       "      <th>15</th>\n",
       "      <th>16</th>\n",
       "      <th>17</th>\n",
       "      <th>18</th>\n",
       "      <th>19</th>\n",
       "      <th>20</th>\n",
       "    </tr>\n",
       "  </thead>\n",
       "  <tbody>\n",
       "    <tr>\n",
       "      <th>0</th>\n",
       "      <td>0.247032</td>\n",
       "      <td>0.511396</td>\n",
       "      <td>0.470550</td>\n",
       "      <td>0.510449</td>\n",
       "      <td>0.428828</td>\n",
       "      <td>0.800695</td>\n",
       "      <td>0.615882</td>\n",
       "      <td>0.990622</td>\n",
       "      <td>0.006578</td>\n",
       "      <td>0.160705</td>\n",
       "      <td>...</td>\n",
       "      <td>0.562416</td>\n",
       "      <td>0.389379</td>\n",
       "      <td>0.439151</td>\n",
       "      <td>0.337009</td>\n",
       "      <td>0.229042</td>\n",
       "      <td>0.237179</td>\n",
       "      <td>0.181178</td>\n",
       "      <td>0.000046</td>\n",
       "      <td>0.460287</td>\n",
       "      <td>0.207650</td>\n",
       "    </tr>\n",
       "    <tr>\n",
       "      <th>1</th>\n",
       "      <td>0.246378</td>\n",
       "      <td>0.507085</td>\n",
       "      <td>0.470524</td>\n",
       "      <td>0.510117</td>\n",
       "      <td>0.429071</td>\n",
       "      <td>0.800617</td>\n",
       "      <td>0.615876</td>\n",
       "      <td>0.990655</td>\n",
       "      <td>0.006560</td>\n",
       "      <td>0.160780</td>\n",
       "      <td>...</td>\n",
       "      <td>0.562432</td>\n",
       "      <td>0.389415</td>\n",
       "      <td>0.439166</td>\n",
       "      <td>0.336982</td>\n",
       "      <td>0.229068</td>\n",
       "      <td>0.237175</td>\n",
       "      <td>0.181181</td>\n",
       "      <td>0.000046</td>\n",
       "      <td>0.457912</td>\n",
       "      <td>0.207737</td>\n",
       "    </tr>\n",
       "    <tr>\n",
       "      <th>2</th>\n",
       "      <td>0.162492</td>\n",
       "      <td>0.488292</td>\n",
       "      <td>0.476377</td>\n",
       "      <td>0.521761</td>\n",
       "      <td>0.440917</td>\n",
       "      <td>0.793452</td>\n",
       "      <td>0.622455</td>\n",
       "      <td>0.990573</td>\n",
       "      <td>0.004695</td>\n",
       "      <td>0.162896</td>\n",
       "      <td>...</td>\n",
       "      <td>0.559611</td>\n",
       "      <td>0.388646</td>\n",
       "      <td>0.436895</td>\n",
       "      <td>0.337717</td>\n",
       "      <td>0.229475</td>\n",
       "      <td>0.237520</td>\n",
       "      <td>0.181724</td>\n",
       "      <td>0.000033</td>\n",
       "      <td>0.223049</td>\n",
       "      <td>0.950727</td>\n",
       "    </tr>\n",
       "    <tr>\n",
       "      <th>3</th>\n",
       "      <td>0.261035</td>\n",
       "      <td>0.511291</td>\n",
       "      <td>0.470199</td>\n",
       "      <td>0.510674</td>\n",
       "      <td>0.426694</td>\n",
       "      <td>0.800378</td>\n",
       "      <td>0.614804</td>\n",
       "      <td>0.991830</td>\n",
       "      <td>0.007947</td>\n",
       "      <td>0.158916</td>\n",
       "      <td>...</td>\n",
       "      <td>0.562304</td>\n",
       "      <td>0.389653</td>\n",
       "      <td>0.438805</td>\n",
       "      <td>0.336421</td>\n",
       "      <td>0.228525</td>\n",
       "      <td>0.237215</td>\n",
       "      <td>0.181271</td>\n",
       "      <td>0.000041</td>\n",
       "      <td>0.487837</td>\n",
       "      <td>0.952618</td>\n",
       "    </tr>\n",
       "    <tr>\n",
       "      <th>4</th>\n",
       "      <td>0.162511</td>\n",
       "      <td>0.485088</td>\n",
       "      <td>0.476162</td>\n",
       "      <td>0.521376</td>\n",
       "      <td>0.442700</td>\n",
       "      <td>0.793760</td>\n",
       "      <td>0.622291</td>\n",
       "      <td>0.989044</td>\n",
       "      <td>0.003151</td>\n",
       "      <td>0.164121</td>\n",
       "      <td>...</td>\n",
       "      <td>0.559635</td>\n",
       "      <td>0.388473</td>\n",
       "      <td>0.437347</td>\n",
       "      <td>0.338014</td>\n",
       "      <td>0.229898</td>\n",
       "      <td>0.237327</td>\n",
       "      <td>0.181438</td>\n",
       "      <td>0.000042</td>\n",
       "      <td>0.220840</td>\n",
       "      <td>0.206991</td>\n",
       "    </tr>\n",
       "  </tbody>\n",
       "</table>\n",
       "<p>5 rows × 21 columns</p>\n",
       "</div>"
      ],
      "text/plain": [
       "         0         1         2         3         4         5         6   \\\n",
       "0  0.247032  0.511396  0.470550  0.510449  0.428828  0.800695  0.615882   \n",
       "1  0.246378  0.507085  0.470524  0.510117  0.429071  0.800617  0.615876   \n",
       "2  0.162492  0.488292  0.476377  0.521761  0.440917  0.793452  0.622455   \n",
       "3  0.261035  0.511291  0.470199  0.510674  0.426694  0.800378  0.614804   \n",
       "4  0.162511  0.485088  0.476162  0.521376  0.442700  0.793760  0.622291   \n",
       "\n",
       "         7         8         9   ...        11        12        13        14  \\\n",
       "0  0.990622  0.006578  0.160705  ...  0.562416  0.389379  0.439151  0.337009   \n",
       "1  0.990655  0.006560  0.160780  ...  0.562432  0.389415  0.439166  0.336982   \n",
       "2  0.990573  0.004695  0.162896  ...  0.559611  0.388646  0.436895  0.337717   \n",
       "3  0.991830  0.007947  0.158916  ...  0.562304  0.389653  0.438805  0.336421   \n",
       "4  0.989044  0.003151  0.164121  ...  0.559635  0.388473  0.437347  0.338014   \n",
       "\n",
       "         15        16        17        18        19        20  \n",
       "0  0.229042  0.237179  0.181178  0.000046  0.460287  0.207650  \n",
       "1  0.229068  0.237175  0.181181  0.000046  0.457912  0.207737  \n",
       "2  0.229475  0.237520  0.181724  0.000033  0.223049  0.950727  \n",
       "3  0.228525  0.237215  0.181271  0.000041  0.487837  0.952618  \n",
       "4  0.229898  0.237327  0.181438  0.000042  0.220840  0.206991  \n",
       "\n",
       "[5 rows x 21 columns]"
      ]
     },
     "execution_count": 51,
     "metadata": {},
     "output_type": "execute_result"
    }
   ],
   "source": [
    "from sklearn.preprocessing import MinMaxScaler\n",
    "scaler = MinMaxScaler()\n",
    "a = scaler.fit_transform(df1)\n",
    "df_prep = pd.DataFrame(a)\n",
    "df_prep.head()"
   ]
  },
  {
   "cell_type": "markdown",
   "metadata": {},
   "source": [
    "**df**"
   ]
  },
  {
   "cell_type": "code",
   "execution_count": 52,
   "metadata": {
    "scrolled": false
   },
   "outputs": [
    {
     "data": {
      "image/png": "[encoded data removed]",
      "text/plain": [
       "<Figure size 1440x432 with 1 Axes>"
      ]
     },
     "metadata": {
      "needs_background": "light"
     },
     "output_type": "display_data"
    }
   ],
   "source": [
    "from sklearn.decomposition import PCA\n",
    "pca = PCA()\n",
    "pca.fit(df_prep)\n",
    "features = range(pca.n_components_)\n",
    "plt.bar(features, pca.explained_variance_)\n",
    "plt.gcf().set_size_inches(20, 6)\n",
    "plt.xticks(features)\n",
    "plt.ylabel(\"Variance\")\n",
    "plt.xlabel(\"PCA Feature\")\n",
    "plt.show()"
   ]
  },
  {
   "cell_type": "markdown",
   "metadata": {},
   "source": [
    "* According to our barplot, 13 is our sweet spot"
   ]
  },
  {
   "cell_type": "code",
   "execution_count": 53,
   "metadata": {
    "scrolled": true
   },
   "outputs": [
    {
     "data": {
      "text/plain": [
       "(440099, 13)"
      ]
     },
     "execution_count": 53,
     "metadata": {},
     "output_type": "execute_result"
    }
   ],
   "source": [
    "pca = PCA(n_components = 13)\n",
    "df = pca.fit_transform(df_prep)\n",
    "df.shape"
   ]
  },
  {
   "cell_type": "code",
   "execution_count": 54,
   "metadata": {},
   "outputs": [],
   "source": [
    "# Manuel Encoding the y\n",
    "y = y.replace({\"Company\":{\"Pink Cab\":0,\"Yellow Cab\":1}})\n",
    "# Splitting Data into Training & Test Sets\n",
    "from sklearn.model_selection import train_test_split\n",
    "X_train, X_test, y_train ,y_test = train_test_split(\n",
    "    df,\n",
    "    y,\n",
    "    test_size=0.25,\n",
    "    random_state=42,\n",
    "    stratify=y\n",
    ")"
   ]
  },
  {
   "cell_type": "code",
   "execution_count": 55,
   "metadata": {},
   "outputs": [
    {
     "name": "stdout",
     "output_type": "stream",
     "text": [
      "Accuracy score for df is:  0.8204226312201772\n"
     ]
    }
   ],
   "source": [
    "from sklearn.tree import DecisionTreeClassifier\n",
    "dtc = DecisionTreeClassifier(max_depth=8, min_samples_leaf=17, min_samples_split=7,\n",
    "                       random_state=42)\n",
    "dtc.fit(X_train, y_train)\n",
    "y_pred = dtc.predict(X_test)\n",
    "print(\"Accuracy score for df is: \",dtc.score(X_test,y_test))"
   ]
  },
  {
   "cell_type": "markdown",
   "metadata": {},
   "source": [
    "**df1**"
   ]
  },
  {
   "cell_type": "code",
   "execution_count": 67,
   "metadata": {},
   "outputs": [
    {
     "data": {
      "text/plain": [
       "(440099, 11)"
      ]
     },
     "execution_count": 67,
     "metadata": {},
     "output_type": "execute_result"
    }
   ],
   "source": [
    "pca = PCA(n_components = 0.9)\n",
    "df1 = pca.fit_transform(df_prep)\n",
    "df1.shape"
   ]
  },
  {
   "cell_type": "code",
   "execution_count": 57,
   "metadata": {},
   "outputs": [],
   "source": [
    "# Manuel Encoding the y\n",
    "y = y.replace({\"Company\":{\"Pink Cab\":0,\"Yellow Cab\":1}})\n",
    "# Splitting Data into Training & Test Sets\n",
    "from sklearn.model_selection import train_test_split\n",
    "X_train, X_test, y_train ,y_test = train_test_split(\n",
    "    df1,\n",
    "    y,\n",
    "    test_size=0.25,\n",
    "    random_state=42,\n",
    "    stratify=y\n",
    ")"
   ]
  },
  {
   "cell_type": "code",
   "execution_count": 58,
   "metadata": {},
   "outputs": [
    {
     "name": "stdout",
     "output_type": "stream",
     "text": [
      "Accuracy score for df is:  0.8226857532379005\n"
     ]
    }
   ],
   "source": [
    "from sklearn.tree import DecisionTreeClassifier\n",
    "dtc = DecisionTreeClassifier(max_depth=8, min_samples_leaf=17, min_samples_split=7,\n",
    "                       random_state=42)\n",
    "dtc.fit(X_train, y_train)\n",
    "y_pred = dtc.predict(X_test)\n",
    "print(\"Accuracy score for df is: \",dtc.score(X_test,y_test))"
   ]
  },
  {
   "cell_type": "markdown",
   "metadata": {},
   "source": [
    "* 2 features less, slightly higher accuracy score, and less complex one. Which means that there are less chance to overfit our model. Thus, I'll go with df1."
   ]
  },
  {
   "cell_type": "markdown",
   "metadata": {},
   "source": [
    "As all data is encoded, we can continue with 3'rd step: Outlier detection and elimination"
   ]
  },
  {
   "cell_type": "markdown",
   "metadata": {},
   "source": [
    "**3.Dealing with Outliers** "
   ]
  },
  {
   "cell_type": "markdown",
   "metadata": {},
   "source": [
    "As outliers can affect the quality of our model, we need to look for them in our numerical columns. <br>\n",
    "Best way to do this is plotting our numerical columns with Histogram chart."
   ]
  },
  {
   "cell_type": "code",
   "execution_count": 68,
   "metadata": {},
   "outputs": [
    {
     "data": {
      "text/plain": [
       "<AxesSubplot:>"
      ]
     },
     "execution_count": 68,
     "metadata": {},
     "output_type": "execute_result"
    },
    {
     "data": {
      "image/png": "[encoded data removed]",
      "text/plain": [
       "<Figure size 1080x360 with 1 Axes>"
      ]
     },
     "metadata": {
      "needs_background": "light"
     },
     "output_type": "display_data"
    }
   ],
   "source": [
    "df1 = pd.DataFrame(df1)\n",
    "df1.boxplot(figsize = (15,5))"
   ]
  },
  {
   "cell_type": "markdown",
   "metadata": {},
   "source": [
    "It seems that all of our columns have outliers except first 3 columns."
   ]
  },
  {
   "cell_type": "markdown",
   "metadata": {},
   "source": [
    "**Outlier Elimination**"
   ]
  },
  {
   "cell_type": "markdown",
   "metadata": {},
   "source": [
    "* In the Outlier Elimination process, I used Quantile Based Elimination Technique.\n",
    "* I used this technique by ensuring a small portion of data is not having an overly adverse effect is by removing a certain percentage of the largest and/or smallest values in the column.\n",
    "*  This can be achieved by finding the relevant quantile and trimming the data using it with a mask. This approach is particularly useful if you are concerned that the highest values in our dataset should be avoided. As I examine the chart above, I can say that highest values in our dataset are the majority of the outliers.\n",
    "* Thus, this method is best practice for our dataset."
   ]
  },
  {
   "cell_type": "code",
   "execution_count": 91,
   "metadata": {},
   "outputs": [],
   "source": [
    "a = df1[0]\n",
    "b = df1[1]\n",
    "c = df1[2]\n",
    "\n",
    "for i in df1:\n",
    "    Q1=df1[i].quantile(0.25)\n",
    "    Q3=df1[i].quantile(0.75)\n",
    "    IQR=Q3-Q1\n",
    "    Lower_Whisker = Q1-1.5*IQR\n",
    "    Upper_Whisker = Q3+1.5*IQR\n",
    "    if df1[i] is a:\n",
    "        continue\n",
    "    elif df1[i] is c:\n",
    "        continue\n",
    "    elif df1[i] is b:\n",
    "        continue\n",
    "    df3= df1[df1[i]< Upper_Whisker]"
   ]
  },
  {
   "cell_type": "code",
   "execution_count": 93,
   "metadata": {
    "scrolled": false
   },
   "outputs": [
    {
     "name": "stdout",
     "output_type": "stream",
     "text": [
      "Df's shape before outlier elimination: (440099, 11)\n",
      "Df's shape after outlier elimination:  (407203, 11)\n"
     ]
    }
   ],
   "source": [
    "print(\"Df's shape before outlier elimination:\",df1.shape)\n",
    "print(\"Df's shape after outlier elimination: \",df3.shape)"
   ]
  },
  {
   "cell_type": "code",
   "execution_count": 73,
   "metadata": {
    "scrolled": true
   },
   "outputs": [
    {
     "data": {
      "text/plain": [
       "False"
      ]
     },
     "execution_count": 73,
     "metadata": {},
     "output_type": "execute_result"
    }
   ],
   "source": [
    "df3.isnull().values.any()"
   ]
  },
  {
   "cell_type": "code",
   "execution_count": 92,
   "metadata": {
    "scrolled": true
   },
   "outputs": [
    {
     "data": {
      "text/plain": [
       "<AxesSubplot:>"
      ]
     },
     "execution_count": 92,
     "metadata": {},
     "output_type": "execute_result"
    },
    {
     "data": {
      "image/png": "[encoded data removed]",
      "text/plain": [
       "<Figure size 1080x360 with 1 Axes>"
      ]
     },
     "metadata": {
      "needs_background": "light"
     },
     "output_type": "display_data"
    }
   ],
   "source": [
    "df3.boxplot(figsize = (15,5))"
   ]
  },
  {
   "cell_type": "markdown",
   "metadata": {},
   "source": [
    "* Much more better than the previous one, but still have outliers. During the process, we've lost 32797 data, but it is an fair amount for the sake of our model.\n",
    "* It may still much outliers, but it should be remembered that our data is mostly composed of spesific values such as transaction id, cost id and so forth.\n",
    "* Thus, above look of our data is just fair. "
   ]
  },
  {
   "cell_type": "markdown",
   "metadata": {},
   "source": [
    "<font color=red>**Which company has maximum cab users at a particular time period?**\n",
    "</font>"
   ]
  },
  {
   "cell_type": "markdown",
   "metadata": {},
   "source": [
    "CONVERTING XL DATE FORMAT TO REGULAR FORMAT"
   ]
  },
  {
   "cell_type": "code",
   "execution_count": 107,
   "metadata": {},
   "outputs": [],
   "source": [
    "import xlrd\n",
    "from datetime import datetime"
   ]
  },
  {
   "cell_type": "code",
   "execution_count": 108,
   "metadata": {},
   "outputs": [],
   "source": [
    "def read_date(date):\n",
    "    return xlrd.xldate.xldate_as_datetime(date, 0)"
   ]
  },
  {
   "cell_type": "code",
   "execution_count": 109,
   "metadata": {},
   "outputs": [],
   "source": [
    "merge_3['Date-of-Travel'] = pd.to_datetime(merge_3['Date-of-Travel'].apply(read_date), errors='coerce')"
   ]
  },
  {
   "cell_type": "code",
   "execution_count": 110,
   "metadata": {},
   "outputs": [
    {
     "data": {
      "text/plain": [
       "0        2016-01-08\n",
       "1        2016-01-06\n",
       "2        2016-01-02\n",
       "3        2016-01-07\n",
       "4        2016-01-03\n",
       "            ...    \n",
       "440094   2018-01-05\n",
       "440095   2018-01-05\n",
       "440096   2018-01-05\n",
       "440097   2018-01-05\n",
       "440098   2018-01-05\n",
       "Name: Date-of-Travel, Length: 440099, dtype: datetime64[ns]"
      ]
     },
     "execution_count": 110,
     "metadata": {},
     "output_type": "execute_result"
    }
   ],
   "source": [
    "merge_3['Date-of-Travel']"
   ]
  },
  {
   "cell_type": "markdown",
   "metadata": {},
   "source": [
    "SPREADING DATE OF TRAVEL TO MONTHS AND YEARS FOR OUR ANALYSIS"
   ]
  },
  {
   "cell_type": "code",
   "execution_count": 111,
   "metadata": {},
   "outputs": [],
   "source": [
    "months=[]\n",
    "years =[]\n",
    "for i in range(len(merge_3['Date-of-Travel'])):\n",
    "    months.append(merge_3['Date-of-Travel'][i].month)\n",
    "    years.append(merge_3['Date-of-Travel'][i].year)\n",
    "merge_3['Month'] = months\n",
    "merge_3['Year'] = years"
   ]
  },
  {
   "cell_type": "code",
   "execution_count": 27,
   "metadata": {},
   "outputs": [
    {
     "data": {
      "text/html": [
       "<div>\n",
       "<style scoped>\n",
       "    .dataframe tbody tr th:only-of-type {\n",
       "        vertical-align: middle;\n",
       "    }\n",
       "\n",
       "    .dataframe tbody tr th {\n",
       "        vertical-align: top;\n",
       "    }\n",
       "\n",
       "    .dataframe thead th {\n",
       "        text-align: right;\n",
       "    }\n",
       "</style>\n",
       "<table border=\"1\" class=\"dataframe\">\n",
       "  <thead>\n",
       "    <tr style=\"text-align: right;\">\n",
       "      <th></th>\n",
       "      <th>Transaction-ID</th>\n",
       "      <th>Date-of-Travel</th>\n",
       "      <th>Company</th>\n",
       "      <th>City</th>\n",
       "      <th>KM-Travelled</th>\n",
       "      <th>Price-Charged</th>\n",
       "      <th>Cost-of-Trip</th>\n",
       "      <th>Population</th>\n",
       "      <th>Users</th>\n",
       "      <th>Customer-ID</th>\n",
       "      <th>Gender</th>\n",
       "      <th>Age</th>\n",
       "      <th>Income(USD/Month)</th>\n",
       "      <th>Payment_Mode</th>\n",
       "      <th>Month</th>\n",
       "      <th>Year</th>\n",
       "    </tr>\n",
       "  </thead>\n",
       "  <tbody>\n",
       "    <tr>\n",
       "      <th>0</th>\n",
       "      <td>1e+07</td>\n",
       "      <td>2016-01-08</td>\n",
       "      <td>0</td>\n",
       "      <td>8</td>\n",
       "      <td>30.45</td>\n",
       "      <td>370.95</td>\n",
       "      <td>313.635</td>\n",
       "      <td>814,885</td>\n",
       "      <td>24,701</td>\n",
       "      <td>29290</td>\n",
       "      <td>1</td>\n",
       "      <td>28</td>\n",
       "      <td>10813</td>\n",
       "      <td>1</td>\n",
       "      <td>1</td>\n",
       "      <td>2016</td>\n",
       "    </tr>\n",
       "    <tr>\n",
       "      <th>1</th>\n",
       "      <td>1e+07</td>\n",
       "      <td>2016-01-06</td>\n",
       "      <td>0</td>\n",
       "      <td>8</td>\n",
       "      <td>28.62</td>\n",
       "      <td>358.52</td>\n",
       "      <td>334.854</td>\n",
       "      <td>814,885</td>\n",
       "      <td>24,701</td>\n",
       "      <td>27703</td>\n",
       "      <td>1</td>\n",
       "      <td>27</td>\n",
       "      <td>9237</td>\n",
       "      <td>1</td>\n",
       "      <td>1</td>\n",
       "      <td>2016</td>\n",
       "    </tr>\n",
       "    <tr>\n",
       "      <th>2</th>\n",
       "      <td>1e+07</td>\n",
       "      <td>2016-01-02</td>\n",
       "      <td>0</td>\n",
       "      <td>8</td>\n",
       "      <td>9.04</td>\n",
       "      <td>125.2</td>\n",
       "      <td>97.632</td>\n",
       "      <td>814,885</td>\n",
       "      <td>24,701</td>\n",
       "      <td>28712</td>\n",
       "      <td>1</td>\n",
       "      <td>53</td>\n",
       "      <td>11242</td>\n",
       "      <td>0</td>\n",
       "      <td>1</td>\n",
       "      <td>2016</td>\n",
       "    </tr>\n",
       "  </tbody>\n",
       "</table>\n",
       "</div>"
      ],
      "text/plain": [
       "  Transaction-ID Date-of-Travel  Company  City KM-Travelled Price-Charged  \\\n",
       "0          1e+07     2016-01-08        0     8        30.45        370.95   \n",
       "1          1e+07     2016-01-06        0     8        28.62        358.52   \n",
       "2          1e+07     2016-01-02        0     8         9.04         125.2   \n",
       "\n",
       "  Cost-of-Trip Population     Users Customer-ID  Gender Age Income(USD/Month)  \\\n",
       "0      313.635   814,885    24,701        29290       1  28             10813   \n",
       "1      334.854   814,885    24,701        27703       1  27              9237   \n",
       "2       97.632   814,885    24,701        28712       1  53             11242   \n",
       "\n",
       "   Payment_Mode  Month  Year  \n",
       "0             1      1  2016  \n",
       "1             1      1  2016  \n",
       "2             0      1  2016  "
      ]
     },
     "execution_count": 27,
     "metadata": {},
     "output_type": "execute_result"
    }
   ],
   "source": [
    "merge_3.head(3)"
   ]
  },
  {
   "cell_type": "markdown",
   "metadata": {},
   "source": [
    "**maximum cab users by month**"
   ]
  },
  {
   "cell_type": "code",
   "execution_count": 60,
   "metadata": {},
   "outputs": [],
   "source": [
    "# Monthly\n",
    "pinkusersmonthly =merge_3[merge_3.Company==0].groupby('Month')['Transaction-ID'].count()\n",
    "yellowusersmonthly = merge_3[merge_3.Company==1].groupby('Month')['Transaction-ID'].count()"
   ]
  },
  {
   "cell_type": "code",
   "execution_count": 61,
   "metadata": {},
   "outputs": [
    {
     "data": {
      "image/png": "[encoded data removed]",
      "text/plain": [
       "<Figure size 432x288 with 1 Axes>"
      ]
     },
     "metadata": {},
     "output_type": "display_data"
    }
   ],
   "source": [
    "plt.bar(pinkusersmonthly.index,pinkusersmonthly,bottom= yellowusersmonthly,label = \"Pink Cab\")\n",
    "plt.bar(yellowusersmonthly.index, yellowusersmonthly, label = \"Yellow Cab\")\n",
    "plt.xlabel(\"Months\")\n",
    "plt.ylabel(\"Transactions\")\n",
    "plt.title(\"Maximum Cab Users by Month\")\n",
    "plt.legend()\n",
    "plt.style.use(\"ggplot\")\n",
    "plt.show()"
   ]
  },
  {
   "cell_type": "markdown",
   "metadata": {},
   "source": [
    "On montly basis, January is the maximum cab users for both companies, while the February is the least. In all months, Pink Cab has more customer than Yellow Cab."
   ]
  },
  {
   "cell_type": "markdown",
   "metadata": {},
   "source": [
    "**maximum cab users by year**"
   ]
  },
  {
   "cell_type": "code",
   "execution_count": 62,
   "metadata": {},
   "outputs": [],
   "source": [
    "#Yearly\n",
    "pinkusersyearly =merge_3[merge_3.Company==0].groupby('Year')['Transaction-ID'].count()\n",
    "yellowusersyearly = merge_3[merge_3.Company==1].groupby('Year')['Transaction-ID'].count()"
   ]
  },
  {
   "cell_type": "code",
   "execution_count": 67,
   "metadata": {},
   "outputs": [
    {
     "data": {
      "image/png": "[encoded data removed]",
      "text/plain": [
       "<Figure size 432x288 with 1 Axes>"
      ]
     },
     "metadata": {},
     "output_type": "display_data"
    }
   ],
   "source": [
    "plt.bar(pinkusersyearly.index,pinkusersyearly,bottom= yellowusersyearly,label = \"Pink Cab\")\n",
    "plt.bar(yellowusersyearly.index, yellowusersyearly, label = \"Yellow Cab\")\n",
    "plt.xlabel(\"Months\")\n",
    "plt.ylabel(\"Transactions\")\n",
    "plt.title(\"Maximum Cab Users by Year\")\n",
    "plt.legend()\n",
    "plt.style.use(\"ggplot\")\n",
    "plt.show()"
   ]
  },
  {
   "cell_type": "markdown",
   "metadata": {},
   "source": [
    "On yearly basis, 2018 is the maximum cab users for both companies, while the 2016 is the least. In all years, Pink Cab has more customer than Yellow Cab."
   ]
  }
 ],
 "metadata": {
  "kernelspec": {
   "display_name": "Python 3",
   "language": "python",
   "name": "python3"
  },
  "language_info": {
   "codemirror_mode": {
    "name": "ipython",
    "version": 3
   },
   "file_extension": ".py",
   "mimetype": "text/x-python",
   "name": "python",
   "nbconvert_exporter": "python",
   "pygments_lexer": "ipython3",
   "version": "3.8.3"
  }
 },
 "nbformat": 4,
 "nbformat_minor": 4
}
